{
 "cells": [
  {
   "cell_type": "code",
   "execution_count": 1,
   "metadata": {},
   "outputs": [
    {
     "name": "stdout",
     "output_type": "stream",
     "text": [
      "Requirement already satisfied: requests in c:\\users\\lenovo\\anaconda\\lib\\site-packages (2.22.0)\n",
      "Requirement already satisfied: idna<2.9,>=2.5 in c:\\users\\lenovo\\anaconda\\lib\\site-packages (from requests) (2.8)\n",
      "Requirement already satisfied: chardet<3.1.0,>=3.0.2 in c:\\users\\lenovo\\anaconda\\lib\\site-packages (from requests) (3.0.4)\n",
      "Requirement already satisfied: certifi>=2017.4.17 in c:\\users\\lenovo\\anaconda\\lib\\site-packages (from requests) (2019.11.28)\n",
      "Requirement already satisfied: urllib3!=1.25.0,!=1.25.1,<1.26,>=1.21.1 in c:\\users\\lenovo\\anaconda\\lib\\site-packages (from requests) (1.25.8)\n",
      "Note: you may need to restart the kernel to use updated packages.\n"
     ]
    }
   ],
   "source": [
    "pip install requests\n"
   ]
  },
  {
   "cell_type": "code",
   "execution_count": 2,
   "metadata": {},
   "outputs": [
    {
     "name": "stdout",
     "output_type": "stream",
     "text": [
      "Requirement already satisfied: bs4 in c:\\users\\lenovo\\anaconda\\lib\\site-packages (0.0.1)\n",
      "Requirement already satisfied: beautifulsoup4 in c:\\users\\lenovo\\anaconda\\lib\\site-packages (from bs4) (4.8.2)\n",
      "Requirement already satisfied: soupsieve>=1.2 in c:\\users\\lenovo\\anaconda\\lib\\site-packages (from beautifulsoup4->bs4) (1.9.5)\n",
      "Note: you may need to restart the kernel to use updated packages.\n"
     ]
    }
   ],
   "source": [
    "pip install bs4"
   ]
  },
  {
   "cell_type": "code",
   "execution_count": 3,
   "metadata": {},
   "outputs": [
    {
     "name": "stdout",
     "output_type": "stream",
     "text": [
      "Requirement already satisfied: html5lib in c:\\users\\lenovo\\anaconda\\lib\\site-packages (1.0.1)\n",
      "Requirement already satisfied: six>=1.9 in c:\\users\\lenovo\\anaconda\\lib\\site-packages (from html5lib) (1.14.0)\n",
      "Requirement already satisfied: webencodings in c:\\users\\lenovo\\anaconda\\lib\\site-packages (from html5lib) (0.5.1)\n",
      "Note: you may need to restart the kernel to use updated packages.\n"
     ]
    }
   ],
   "source": [
    "pip install html5lib"
   ]
  },
  {
   "cell_type": "code",
   "execution_count": 4,
   "metadata": {},
   "outputs": [
    {
     "name": "stdout",
     "output_type": "stream",
     "text": [
      "b'<!DOCTYPE html>\\n<html lang=\"en\">\\n<head>\\n<meta charset=\"utf-8\">\\n<meta name=\"viewport\" content=\"width=device-width, initial-scale=1\">\\n<title>Access to this page has been denied.</title>\\n<link href=\"https://fonts.googleapis.com/css?family=Open+Sans:300\" rel=\"stylesheet\">\\n<style>\\n        html, body {\\n            margin: 0;\\n            padding: 0;\\n            font-family: \\'Open Sans\\', sans-serif;\\n            color: #000;\\n        }\\n\\n        a {\\n            color: #c5c5c5;\\n            text-decoration: none;\\n        }\\n\\n        .container {\\n            align-items: center;\\n            display: flex;\\n            flex: 1;\\n            justify-content: space-between;\\n            flex-direction: column;\\n            height: 100%;\\n        }\\n\\n        .container > div {\\n            width: 100%;\\n            display: flex;\\n            justify-content: center;\\n        }\\n\\n        .container > div > div {\\n            display: flex;\\n            width: 80%;\\n        }\\n\\n        .customer-logo-wrapper {\\n            padding-top: 2rem;\\n            flex-grow: 0;\\n            background-color: #fff;\\n            visibility: hidden;\\n        }\\n\\n        .customer-logo {\\n            border-bottom: 1px solid #000;\\n        }\\n\\n        .customer-logo > img {\\n            padding-bottom: 1rem;\\n            max-height: 50px;\\n            max-width: 100%;\\n        }\\n\\n        .page-title-wrapper {\\n            flex-grow: 2;\\n        }\\n\\n        .page-title {\\n            flex-direction: column-reverse;\\n        }\\n\\n        .content-wrapper {\\n            flex-grow: 5;\\n        }\\n\\n        .content {\\n            flex-direction: column;\\n        }\\n\\n        .page-footer-wrapper {\\n            align-items: center;\\n            flex-grow: 0.2;\\n            background-color: #000;\\n            color: #c5c5c5;\\n            font-size: 70%;\\n        }\\n\\n        @media (min-width: 768px) {\\n            html, body {\\n                height: 100%;\\n            }\\n        }\\n    </style>\\n\\n</head>\\n<body>\\n<section class=\"container\">\\n<div class=\"customer-logo-wrapper\">\\n<div class=\"customer-logo\">\\n<img src=\"\" alt=\"Logo\" />\\n</div>\\n</div>\\n<div class=\"page-title-wrapper\">\\n<div class=\"page-title\">\\n<h1>Please verify you are a human</h1>\\n</div>\\n</div>\\n<div class=\"content-wrapper\">\\n<div class=\"content\">\\n<div id=\"px-captcha\">\\n</div>\\n<p>\\nAccess to this page has been denied because we believe you are using automation tools to browse the\\nwebsite.\\n</p>\\n<p>\\nThis may happen as a result of the following:\\n</p>\\n<ul>\\n<li>\\nJavascript is disabled or blocked by an extension (ad blockers for example)\\n</li>\\n<li>\\nYour browser does not support cookies\\n</li>\\n</ul>\\n<p>\\nPlease make sure that Javascript and cookies are enabled on your browser and that you are not blocking\\nthem from loading.\\n</p>\\n<p>\\nReference ID: #7056a14d-316a-11ec-804d-7848794e736a\\n</p>\\n</div>\\n</div>\\n<div class=\"page-footer-wrapper\">\\n<div class=\"page-footer\">\\n<p>\\nPowered by\\n<a href=\"https://www.perimeterx.com/whywasiblocked\">PerimeterX</a>\\n, Inc.\\n</p>\\n</div>\\n</div>\\n</section>\\n\\n<script>\\n    window._pxAppId = \\'PXrw7M6iAV\\';\\n    window._pxJsClientSrc = \\'/rw7M6iAV/init.js\\';\\n    window._pxFirstPartyEnabled = true;\\n    window._pxVid = \\'\\';\\n    window._pxUuid = \\'7056a14d-316a-11ec-804d-7848794e736a\\';\\n    window._pxHostUrl = \\'/rw7M6iAV/xhr\\';\\n</script>\\n\\n<script>\\n    var s = document.createElement(\\'script\\');\\n    s.src = \\'/rw7M6iAV/captcha/PXrw7M6iAV/captcha.js?a=c&m=0&u=7056a14d-316a-11ec-804d-7848794e736a&v=\\';\\n    var p = document.getElementsByTagName(\\'head\\')[0];\\n    p.insertBefore(s, null);\\n    if (true) {\\n        s.onerror = function () {\\n            s = document.createElement(\\'script\\');\\n            var suffixIndex = \\'/rw7M6iAV/captcha/PXrw7M6iAV/captcha.js?a=c&m=0&u=7056a14d-316a-11ec-804d-7848794e736a&v=\\'.indexOf(\\'captcha.js\\');\\n            var temperedBlockScript = \\'/rw7M6iAV/captcha/PXrw7M6iAV/captcha.js?a=c&m=0&u=7056a14d-316a-11ec-804d-7848794e736a&v=\\'.substring(suffixIndex);\\n            s.src = \\'//captcha.px-cdn.net/PXrw7M6iAV/\\' + temperedBlockScript;\\n            p.parentNode.insertBefore(s, p);\\n        };\\n    }\\n</script>\\n\\n</body>\\n</html>\\n'\n"
     ]
    }
   ],
   "source": [
    "import requests\n",
    "URL = \"https://www.crunchbase.com/home\"\n",
    "r = requests.get(URL)\n",
    "print(r.content) "
   ]
  },
  {
   "cell_type": "code",
   "execution_count": 5,
   "metadata": {},
   "outputs": [
    {
     "name": "stdout",
     "output_type": "stream",
     "text": [
      "<!DOCTYPE html>\n",
      "<html lang=\"en\">\n",
      " <head>\n",
      "  <meta charset=\"utf-8\"/>\n",
      "  <meta content=\"width=device-width, initial-scale=1\" name=\"viewport\"/>\n",
      "  <title>\n",
      "   Access to this page has been denied.\n",
      "  </title>\n",
      "  <link href=\"https://fonts.googleapis.com/css?family=Open+Sans:300\" rel=\"stylesheet\"/>\n",
      "  <style>\n",
      "   html, body {\n",
      "            margin: 0;\n",
      "            padding: 0;\n",
      "            font-family: 'Open Sans', sans-serif;\n",
      "            color: #000;\n",
      "        }\n",
      "\n",
      "        a {\n",
      "            color: #c5c5c5;\n",
      "            text-decoration: none;\n",
      "        }\n",
      "\n",
      "        .container {\n",
      "            align-items: center;\n",
      "            display: flex;\n",
      "            flex: 1;\n",
      "            justify-content: space-between;\n",
      "            flex-direction: column;\n",
      "            height: 100%;\n",
      "        }\n",
      "\n",
      "        .container > div {\n",
      "            width: 100%;\n",
      "            display: flex;\n",
      "            justify-content: center;\n",
      "        }\n",
      "\n",
      "        .container > div > div {\n",
      "            display: flex;\n",
      "            width: 80%;\n",
      "        }\n",
      "\n",
      "        .customer-logo-wrapper {\n",
      "            padding-top: 2rem;\n",
      "            flex-grow: 0;\n",
      "            background-color: #fff;\n",
      "            visibility: hidden;\n",
      "        }\n",
      "\n",
      "        .customer-logo {\n",
      "            border-bottom: 1px solid #000;\n",
      "        }\n",
      "\n",
      "        .customer-logo > img {\n",
      "            padding-bottom: 1rem;\n",
      "            max-height: 50px;\n",
      "            max-width: 100%;\n",
      "        }\n",
      "\n",
      "        .page-title-wrapper {\n",
      "            flex-grow: 2;\n",
      "        }\n",
      "\n",
      "        .page-title {\n",
      "            flex-direction: column-reverse;\n",
      "        }\n",
      "\n",
      "        .content-wrapper {\n",
      "            flex-grow: 5;\n",
      "        }\n",
      "\n",
      "        .content {\n",
      "            flex-direction: column;\n",
      "        }\n",
      "\n",
      "        .page-footer-wrapper {\n",
      "            align-items: center;\n",
      "            flex-grow: 0.2;\n",
      "            background-color: #000;\n",
      "            color: #c5c5c5;\n",
      "            font-size: 70%;\n",
      "        }\n",
      "\n",
      "        @media (min-width: 768px) {\n",
      "            html, body {\n",
      "                height: 100%;\n",
      "            }\n",
      "        }\n",
      "  </style>\n",
      " </head>\n",
      " <body>\n",
      "  <section class=\"container\">\n",
      "   <div class=\"customer-logo-wrapper\">\n",
      "    <div class=\"customer-logo\">\n",
      "     <img alt=\"Logo\" src=\"\"/>\n",
      "    </div>\n",
      "   </div>\n",
      "   <div class=\"page-title-wrapper\">\n",
      "    <div class=\"page-title\">\n",
      "     <h1>\n",
      "      Please verify you are a human\n",
      "     </h1>\n",
      "    </div>\n",
      "   </div>\n",
      "   <div class=\"content-wrapper\">\n",
      "    <div class=\"content\">\n",
      "     <div id=\"px-captcha\">\n",
      "     </div>\n",
      "     <p>\n",
      "      Access to this page has been denied because we believe you are using automation tools to browse the\n",
      "website.\n",
      "     </p>\n",
      "     <p>\n",
      "      This may happen as a result of the following:\n",
      "     </p>\n",
      "     <ul>\n",
      "      <li>\n",
      "       Javascript is disabled or blocked by an extension (ad blockers for example)\n",
      "      </li>\n",
      "      <li>\n",
      "       Your browser does not support cookies\n",
      "      </li>\n",
      "     </ul>\n",
      "     <p>\n",
      "      Please make sure that Javascript and cookies are enabled on your browser and that you are not blocking\n",
      "them from loading.\n",
      "     </p>\n",
      "     <p>\n",
      "      Reference ID: #730c107e-316a-11ec-8012-66736b727747\n",
      "     </p>\n",
      "    </div>\n",
      "   </div>\n",
      "   <div class=\"page-footer-wrapper\">\n",
      "    <div class=\"page-footer\">\n",
      "     <p>\n",
      "      Powered by\n",
      "      <a href=\"https://www.perimeterx.com/whywasiblocked\">\n",
      "       PerimeterX\n",
      "      </a>\n",
      "      , Inc.\n",
      "     </p>\n",
      "    </div>\n",
      "   </div>\n",
      "  </section>\n",
      "  <script>\n",
      "   window._pxAppId = 'PXrw7M6iAV';\n",
      "    window._pxJsClientSrc = '/rw7M6iAV/init.js';\n",
      "    window._pxFirstPartyEnabled = true;\n",
      "    window._pxVid = '';\n",
      "    window._pxUuid = '730c107e-316a-11ec-8012-66736b727747';\n",
      "    window._pxHostUrl = '/rw7M6iAV/xhr';\n",
      "  </script>\n",
      "  <script>\n",
      "   var s = document.createElement('script');\n",
      "    s.src = '/rw7M6iAV/captcha/PXrw7M6iAV/captcha.js?a=c&m=0&u=730c107e-316a-11ec-8012-66736b727747&v=';\n",
      "    var p = document.getElementsByTagName('head')[0];\n",
      "    p.insertBefore(s, null);\n",
      "    if (true) {\n",
      "        s.onerror = function () {\n",
      "            s = document.createElement('script');\n",
      "            var suffixIndex = '/rw7M6iAV/captcha/PXrw7M6iAV/captcha.js?a=c&m=0&u=730c107e-316a-11ec-8012-66736b727747&v='.indexOf('captcha.js');\n",
      "            var temperedBlockScript = '/rw7M6iAV/captcha/PXrw7M6iAV/captcha.js?a=c&m=0&u=730c107e-316a-11ec-8012-66736b727747&v='.substring(suffixIndex);\n",
      "            s.src = '//captcha.px-cdn.net/PXrw7M6iAV/' + temperedBlockScript;\n",
      "            p.parentNode.insertBefore(s, p);\n",
      "        };\n",
      "    }\n",
      "  </script>\n",
      " </body>\n",
      "</html>\n"
     ]
    }
   ],
   "source": [
    "import requests\n",
    "from bs4 import BeautifulSoup\n",
    "  \n",
    "URL = \"https://www.crunchbase.com/home\"\n",
    "r = requests.get(URL)\n",
    "  \n",
    "soup = BeautifulSoup(r.content, 'html5lib') \n",
    "print(soup.prettify())"
   ]
  },
  {
   "cell_type": "code",
   "execution_count": null,
   "metadata": {},
   "outputs": [],
   "source": []
  }
 ],
 "metadata": {
  "kernelspec": {
   "display_name": "Python 3",
   "language": "python",
   "name": "python3"
  },
  "language_info": {
   "codemirror_mode": {
    "name": "ipython",
    "version": 3
   },
   "file_extension": ".py",
   "mimetype": "text/x-python",
   "name": "python",
   "nbconvert_exporter": "python",
   "pygments_lexer": "ipython3",
   "version": "3.6.10"
  }
 },
 "nbformat": 4,
 "nbformat_minor": 4
}
